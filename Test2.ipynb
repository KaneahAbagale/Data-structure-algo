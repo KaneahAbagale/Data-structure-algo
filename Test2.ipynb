{
  "cells": [
    {
      "cell_type": "markdown",
      "metadata": {
        "id": "view-in-github",
        "colab_type": "text"
      },
      "source": [
        "<a href=\"https://colab.research.google.com/github/KaneahAbagale/Data-structure-algo/blob/main/Test2.ipynb\" target=\"_parent\"><img src=\"https://colab.research.google.com/assets/colab-badge.svg\" alt=\"Open In Colab\"/></a>"
      ]
    },
    {
      "cell_type": "code",
      "source": [
        "!pip install jovian --upgrade --quiet"
      ],
      "metadata": {
        "colab": {
          "base_uri": "https://localhost:8080/"
        },
        "id": "m8eWWMuYEREq",
        "outputId": "3d28b660-853b-4c7f-a4bc-16c5b1bb75cb"
      },
      "execution_count": 97,
      "outputs": [
        {
          "output_type": "stream",
          "name": "stdout",
          "text": [
            "\u001b[?25l\r\u001b[K     |████▊                           | 10 kB 23.7 MB/s eta 0:00:01\r\u001b[K     |█████████▌                      | 20 kB 12.5 MB/s eta 0:00:01\r\u001b[K     |██████████████▎                 | 30 kB 9.2 MB/s eta 0:00:01\r\u001b[K     |███████████████████             | 40 kB 8.1 MB/s eta 0:00:01\r\u001b[K     |███████████████████████▉        | 51 kB 4.5 MB/s eta 0:00:01\r\u001b[K     |████████████████████████████▋   | 61 kB 4.7 MB/s eta 0:00:01\r\u001b[K     |████████████████████████████████| 68 kB 2.9 MB/s \n",
            "\u001b[?25h  Building wheel for uuid (setup.py) ... \u001b[?25l\u001b[?25hdone\n"
          ]
        }
      ]
    },
    {
      "cell_type": "code",
      "source": [
        "from jovian.pythondsa import evaluate_test_case"
      ],
      "metadata": {
        "id": "UTH468-qEbT7"
      },
      "execution_count": 98,
      "outputs": []
    },
    {
      "cell_type": "markdown",
      "source": [
        "#Binary search\n",
        "Bob can flip the cards 1 at a time from the first card. We will ignore the fact tha the cards are sorted.\n",
        "Or\n",
        "TAke into consideration the fact that the cards are sorted and pick a random number. We can use the fact that the list is sorted in descending order to determine where the largest card lies.\n",
        "We can start with the middle card to help use determine if the query will be to the left or rigth. This will help reduce the number of cards tested.\n",
        "\n"
      ],
      "metadata": {
        "id": "RHXHvLztGRIx"
      }
    },
    {
      "cell_type": "code",
      "source": [
        "cards = [9,7,6,4,3,2,1]\n",
        "query = 6\n",
        "\n",
        "#select middle number 4\n",
        "cards = [9,7,6,4,3,2,1] \n",
        "4 < 6\n",
        "\n",
        "#select a number to the left of 4 since 6>4 so 2nd number form the left is sleceted\n",
        "cards = [9,7,6,4,3,2,1]\n",
        "7>6\n",
        "\n",
        "#select the number to the right of 7\n",
        "cards = [9,7,6,4,3,2,1]\n",
        "6==6"
      ],
      "metadata": {
        "colab": {
          "base_uri": "https://localhost:8080/"
        },
        "id": "zzUacpY_vds6",
        "outputId": "c57b87b0-bea2-4f9f-a323-b354bf838b57"
      },
      "execution_count": 154,
      "outputs": [
        {
          "output_type": "execute_result",
          "data": {
            "text/plain": [
              "True"
            ]
          },
          "metadata": {},
          "execution_count": 154
        }
      ]
    },
    {
      "cell_type": "code",
      "source": [
        "def locate_card(cards,query):\n",
        "  pass\n",
        "\n",
        "cards = [9,7,6,4,3,2,1]\n",
        "query = 6\n",
        "output = 2\n",
        "\n",
        "result = locate_card(cards,query)\n",
        "(result)"
      ],
      "metadata": {
        "id": "jvxvMyIVoCQl"
      },
      "execution_count": 155,
      "outputs": []
    },
    {
      "cell_type": "code",
      "source": [
        "result == output"
      ],
      "metadata": {
        "colab": {
          "base_uri": "https://localhost:8080/"
        },
        "id": "0l4kfHbvIFlo",
        "outputId": "dfa9f6e8-138b-442a-d909-5efd71fa5930"
      },
      "execution_count": 156,
      "outputs": [
        {
          "output_type": "execute_result",
          "data": {
            "text/plain": [
              "False"
            ]
          },
          "metadata": {},
          "execution_count": 156
        }
      ]
    },
    {
      "cell_type": "code",
      "source": [
        "test = {\n",
        "    'input' : {\n",
        "        'cards' : [9,7,6,4,3,2,1],\n",
        "        'query' : 6\n",
        "    },\n",
        "    'output' : 2\n",
        "}"
      ],
      "metadata": {
        "id": "yrGy1e4-H9ZT"
      },
      "execution_count": 157,
      "outputs": []
    },
    {
      "cell_type": "code",
      "source": [
        "locate_card(**test['input']) == test['output']"
      ],
      "metadata": {
        "colab": {
          "base_uri": "https://localhost:8080/"
        },
        "id": "q5Z7kyGEHfvX",
        "outputId": "5668fc25-04a6-40d2-8197-00671f8529b9"
      },
      "execution_count": 158,
      "outputs": [
        {
          "output_type": "execute_result",
          "data": {
            "text/plain": [
              "False"
            ]
          },
          "metadata": {},
          "execution_count": 158
        }
      ]
    },
    {
      "cell_type": "code",
      "source": [
        "tests = []\n",
        "\n",
        "#query happens in the middle\n",
        "tests.append(test)\n",
        "\n",
        "tests.append ({\n",
        "    'input' : {\n",
        "        'cards' : [18,12,9,8,7,6,3,2,1],\n",
        "        'query' : 8\n",
        "    },\n",
        "    'output' : 3\n",
        "})\n",
        "#query is first element\n",
        "tests.append ({\n",
        "    'input' : {\n",
        "        'cards' : [4,2,1,-1],\n",
        "        'query' : 4\n",
        "    },\n",
        "    'output' : 0\n",
        "})\n",
        "#query is last element\n",
        "tests.append ({\n",
        "    'input' : {\n",
        "        'cards' : [3,-1,-9,-127],\n",
        "        'query' : -127\n",
        "    },\n",
        "    'output' : 3\n",
        "})\n",
        "\n",
        "#list contains just 1 element\n",
        "tests.append ({\n",
        "    'input' : {\n",
        "        'cards' : [6],\n",
        "        'query' : 6\n",
        "    },\n",
        "    'output' : 0\n",
        "})\n",
        "#cards does not contain query\n",
        "#assume your function will return -1 if cards does not contain query\n",
        "tests.append ({\n",
        "    'input' : {\n",
        "        'cards' : [9,7,5,2,-9],\n",
        "        'query' : 4\n",
        "    },\n",
        "    'output' : -1\n",
        "})\n",
        "#if card array is empty\n",
        "tests.append ({\n",
        "    'input' : {\n",
        "        'cards' : [],\n",
        "        'query' : 8\n",
        "    },\n",
        "    'output' : -1\n",
        "})\n",
        "\n",
        "#numbers can repeat\n",
        "tests.append ({\n",
        "    'input' : {\n",
        "        'cards' : [8,8,6,6,6,3,2,2,0,0],\n",
        "        'query' : 3\n",
        "    },\n",
        "    'output': 7\n",
        "})\n",
        "\n",
        "#the number query occurs more than 1 position\n",
        "tests.append ({\n",
        "    'input' : {\n",
        "        'cards' : [8,8,6,6,6,6,6,3,2],\n",
        "        'query' : 2\n",
        "    },\n",
        "    'output' : 8\n",
        "})"
      ],
      "metadata": {
        "id": "FvYKfd1hn_z_"
      },
      "execution_count": 163,
      "outputs": []
    },
    {
      "cell_type": "code",
      "source": [
        "tests"
      ],
      "metadata": {
        "colab": {
          "base_uri": "https://localhost:8080/"
        },
        "id": "yCkP8qhVnpgG",
        "outputId": "5d6054b9-ed73-487a-ca0b-bffcc9e845f4"
      },
      "execution_count": 164,
      "outputs": [
        {
          "output_type": "execute_result",
          "data": {
            "text/plain": [
              "[{'input': {'cards': [9, 7, 6, 4, 3, 2, 1], 'query': 6}, 'output': 2},\n",
              " {'input': {'cards': [18, 12, 9, 8, 7, 6, 3, 2, 1], 'query': 8}, 'output': 3},\n",
              " {'input': {'cards': [4, 2, 1, -1], 'query': 4}, 'output': 0},\n",
              " {'input': {'cards': [3, -1, -9, -127], 'query': -127}, 'output': 3},\n",
              " {'input': {'cards': [6], 'query': 6}, 'output': 0},\n",
              " {'input': {'cards': [9, 7, 5, 2, -9], 'query': 4}, 'output': -1},\n",
              " {'input': {'cards': [], 'query': 8}, 'output': -1},\n",
              " {'input': {'cards': [8, 8, 6, 6, 6, 3, 2, 2, 0, 0], 'query': 3}, 'output': 7},\n",
              " {'input': {'cards': [8, 8, 6, 6, 6, 6, 6, 3, 2], 'query': 2}, 'output': 8}]"
            ]
          },
          "metadata": {},
          "execution_count": 164
        }
      ]
    },
    {
      "cell_type": "code",
      "source": [
        "#Solution\n",
        "#def locate_card(cards, query):\n",
        "\n",
        "  #create a variable with position 0\n",
        "  #position = 0\n",
        "\n",
        "  #Set up a loop for repetition\n",
        "  #while True:\n",
        "\n",
        "    #check if current element at the current position match query\n",
        "    #if cards[position] == query:\n",
        "\n",
        "      #Answer found, return & exist\n",
        "      #return position\n",
        "\n",
        "      #Increament position\n",
        "      #position += 1\n",
        "\n",
        "      #check if we reach end of array\n",
        "      #if position == len(cards):\n",
        "\n",
        "        #number not found return -1\n",
        "        #return -1"
      ],
      "metadata": {
        "id": "QaWS_S5942eD"
      },
      "execution_count": 82,
      "outputs": []
    },
    {
      "cell_type": "markdown",
      "source": [
        "#write a correct solution in plain english(algorithm)\n",
        "1.  Find the middle element int the list\n",
        "2.  If it matches the queried number return position as answerList item\n",
        "3.  If its less than the queried number search first half of the list\n",
        "4.  If the greater than queried number search the second half of the list\n",
        "5.  If no more elements remain return -1\n",
        "\n",
        "\n",
        "\n",
        "\n",
        "\n",
        "\n",
        "\n",
        "\n"
      ],
      "metadata": {
        "id": "vsigXkmnzvQj"
      }
    },
    {
      "cell_type": "code",
      "source": [
        "#implenet solution\n",
        "def locate_card(cards,query):\n",
        "  low, high = 0, len(cards) -1\n",
        "\n",
        "  while low <= high:\n",
        "    mid = (low + high)//2\n",
        "    mid_num = cards[mid]\n",
        "\n",
        "    print(\"low:\", low, \",high:\", high, \",mid:\", mid, \",mid_num:\", mid_num)\n",
        "    \n",
        "    if mid_num == query:\n",
        "      return mid\n",
        "    elif mid_num < query:\n",
        "      high = mid + 1\n",
        "    elif mid_num > query:\n",
        "      low = mid - 1\n",
        "    return -1 "
      ],
      "metadata": {
        "id": "VfLKF6GM1HJU"
      },
      "execution_count": 166,
      "outputs": []
    },
    {
      "cell_type": "code",
      "source": [
        "test"
      ],
      "metadata": {
        "colab": {
          "base_uri": "https://localhost:8080/"
        },
        "id": "Y3za9zYSG2N_",
        "outputId": "11904c8b-c71d-4f75-dc31-2d404a14e165"
      },
      "execution_count": 167,
      "outputs": [
        {
          "output_type": "execute_result",
          "data": {
            "text/plain": [
              "{'input': {'cards': [9, 7, 6, 4, 3, 2, 1], 'query': 6}, 'output': 2}"
            ]
          },
          "metadata": {},
          "execution_count": 167
        }
      ]
    },
    {
      "cell_type": "code",
      "source": [
        "result = locate_card (test['input']['cards'], test['input']['query']) \n",
        "result"
      ],
      "metadata": {
        "colab": {
          "base_uri": "https://localhost:8080/"
        },
        "id": "fC-nUI52vNzA",
        "outputId": "e1089518-d837-48e5-fa2e-d4bcdb35d034"
      },
      "execution_count": 195,
      "outputs": [
        {
          "output_type": "stream",
          "name": "stdout",
          "text": [
            "low: 0 ,high: 8 ,mid: 4 ,mid_num: 6\n"
          ]
        },
        {
          "output_type": "execute_result",
          "data": {
            "text/plain": [
              "-1"
            ]
          },
          "metadata": {},
          "execution_count": 195
        }
      ]
    },
    {
      "cell_type": "code",
      "source": [
        "result == output"
      ],
      "metadata": {
        "colab": {
          "base_uri": "https://localhost:8080/"
        },
        "id": "smGGfm8EvSLj",
        "outputId": "7f657ea1-00e9-4235-ff1d-5e5854112e3c"
      },
      "execution_count": 197,
      "outputs": [
        {
          "output_type": "execute_result",
          "data": {
            "text/plain": [
              "False"
            ]
          },
          "metadata": {},
          "execution_count": 197
        }
      ]
    },
    {
      "cell_type": "code",
      "source": [
        "for test in tests:\n",
        "  locate_card (test['input']['cards'],test['input']['query'] == test['output'])"
      ],
      "metadata": {
        "colab": {
          "base_uri": "https://localhost:8080/"
        },
        "id": "bQcF0rw5vh5t",
        "outputId": "4867d721-7382-4ae5-d871-2c23f4e098e7"
      },
      "execution_count": 194,
      "outputs": [
        {
          "output_type": "stream",
          "name": "stdout",
          "text": [
            "low: 0 ,high: 6 ,mid: 3 ,mid_num: 4\n",
            "low: 0 ,high: 8 ,mid: 4 ,mid_num: 7\n",
            "low: 0 ,high: 3 ,mid: 1 ,mid_num: 2\n",
            "low: 0 ,high: 3 ,mid: 1 ,mid_num: -1\n",
            "low: 0 ,high: 0 ,mid: 0 ,mid_num: 6\n",
            "low: 0 ,high: 4 ,mid: 2 ,mid_num: 5\n",
            "low: 0 ,high: 9 ,mid: 4 ,mid_num: 6\n",
            "low: 0 ,high: 8 ,mid: 4 ,mid_num: 6\n"
          ]
        }
      ]
    },
    {
      "cell_type": "code",
      "source": [
        "from jovian.pythondsa import evaluate_test_cases"
      ],
      "metadata": {
        "id": "pe_qr26xDhB6"
      },
      "execution_count": 185,
      "outputs": []
    },
    {
      "cell_type": "code",
      "source": [
        "evaluate_test_case(locate_card, test)"
      ],
      "metadata": {
        "colab": {
          "base_uri": "https://localhost:8080/"
        },
        "id": "drCI_KBNxCIX",
        "outputId": "b122d1a9-564a-4da0-b50e-416c88384574"
      },
      "execution_count": 186,
      "outputs": [
        {
          "output_type": "stream",
          "name": "stdout",
          "text": [
            "\n",
            "Input:\n",
            "{'cards': [8, 8, 6, 6, 6, 6, 6, 3, 2], 'query': 2}\n",
            "\n",
            "Expected Output:\n",
            "8\n",
            "\n",
            "low: 0 ,high: 8 ,mid: 4 ,mid_num: 6\n",
            "\n",
            "Actual Output:\n",
            "-1\n",
            "\n",
            "Execution Time:\n",
            "0.12 ms\n",
            "\n",
            "Test Result:\n",
            "\u001b[91mFAILED\u001b[0m\n",
            "\n"
          ]
        },
        {
          "output_type": "execute_result",
          "data": {
            "text/plain": [
              "(-1, False, 0.12)"
            ]
          },
          "metadata": {},
          "execution_count": 186
        }
      ]
    },
    {
      "cell_type": "code",
      "source": [
        "evaluate_test_cases(locate_card, tests)\n"
      ],
      "metadata": {
        "colab": {
          "base_uri": "https://localhost:8080/"
        },
        "id": "-iuGsPxeQreC",
        "outputId": "87b93de7-e883-48da-82f3-aaba06209830"
      },
      "execution_count": 196,
      "outputs": [
        {
          "output_type": "stream",
          "name": "stdout",
          "text": [
            "\n",
            "\u001b[1mTEST CASE #0\u001b[0m\n",
            "low: 0 ,high: 6 ,mid: 3 ,mid_num: 4\n",
            "\n",
            "Input:\n",
            "{'cards': [9, 7, 6, 4, 3, 2, 1], 'query': 6}\n",
            "\n",
            "Expected Output:\n",
            "2\n",
            "\n",
            "\n",
            "Actual Output:\n",
            "-1\n",
            "\n",
            "Execution Time:\n",
            "1.028 ms\n",
            "\n",
            "Test Result:\n",
            "\u001b[91mFAILED\u001b[0m\n",
            "\n",
            "\n",
            "\u001b[1mTEST CASE #1\u001b[0m\n",
            "low: 0 ,high: 8 ,mid: 4 ,mid_num: 7\n",
            "\n",
            "Input:\n",
            "{'cards': [18, 12, 9, 8, 7, 6, 3, 2, 1], 'query': 8}\n",
            "\n",
            "Expected Output:\n",
            "3\n",
            "\n",
            "\n",
            "Actual Output:\n",
            "-1\n",
            "\n",
            "Execution Time:\n",
            "0.235 ms\n",
            "\n",
            "Test Result:\n",
            "\u001b[91mFAILED\u001b[0m\n",
            "\n",
            "\n",
            "\u001b[1mTEST CASE #2\u001b[0m\n",
            "low: 0 ,high: 3 ,mid: 1 ,mid_num: 2\n",
            "\n",
            "Input:\n",
            "{'cards': [4, 2, 1, -1], 'query': 4}\n",
            "\n",
            "Expected Output:\n",
            "0\n",
            "\n",
            "\n",
            "Actual Output:\n",
            "-1\n",
            "\n",
            "Execution Time:\n",
            "0.26 ms\n",
            "\n",
            "Test Result:\n",
            "\u001b[91mFAILED\u001b[0m\n",
            "\n",
            "\n",
            "\u001b[1mTEST CASE #3\u001b[0m\n",
            "low: 0 ,high: 3 ,mid: 1 ,mid_num: -1\n",
            "\n",
            "Input:\n",
            "{'cards': [3, -1, -9, -127], 'query': -127}\n",
            "\n",
            "Expected Output:\n",
            "3\n",
            "\n",
            "\n",
            "Actual Output:\n",
            "-1\n",
            "\n",
            "Execution Time:\n",
            "0.214 ms\n",
            "\n",
            "Test Result:\n",
            "\u001b[91mFAILED\u001b[0m\n",
            "\n",
            "\n",
            "\u001b[1mTEST CASE #4\u001b[0m\n",
            "low: 0 ,high: 0 ,mid: 0 ,mid_num: 6\n",
            "\n",
            "Input:\n",
            "{'cards': [6], 'query': 6}\n",
            "\n",
            "Expected Output:\n",
            "0\n",
            "\n",
            "\n",
            "Actual Output:\n",
            "0\n",
            "\n",
            "Execution Time:\n",
            "0.519 ms\n",
            "\n",
            "Test Result:\n",
            "\u001b[92mPASSED\u001b[0m\n",
            "\n",
            "\n",
            "\u001b[1mTEST CASE #5\u001b[0m\n",
            "low: 0 ,high: 4 ,mid: 2 ,mid_num: 5\n",
            "\n",
            "Input:\n",
            "{'cards': [9, 7, 5, 2, -9], 'query': 4}\n",
            "\n",
            "Expected Output:\n",
            "-1\n",
            "\n",
            "\n",
            "Actual Output:\n",
            "-1\n",
            "\n",
            "Execution Time:\n",
            "0.209 ms\n",
            "\n",
            "Test Result:\n",
            "\u001b[92mPASSED\u001b[0m\n",
            "\n",
            "\n",
            "\u001b[1mTEST CASE #6\u001b[0m\n",
            "\n",
            "Input:\n",
            "{'cards': [], 'query': 8}\n",
            "\n",
            "Expected Output:\n",
            "-1\n",
            "\n",
            "\n",
            "Actual Output:\n",
            "None\n",
            "\n",
            "Execution Time:\n",
            "0.003 ms\n",
            "\n",
            "Test Result:\n",
            "\u001b[91mFAILED\u001b[0m\n",
            "\n",
            "\n",
            "\u001b[1mTEST CASE #7\u001b[0m\n",
            "low: 0 ,high: 9 ,mid: 4 ,mid_num: 6\n",
            "\n",
            "Input:\n",
            "{'cards': [8, 8, 6, 6, 6, 3, 2, 2, 0, 0], 'query': 3}\n",
            "\n",
            "Expected Output:\n",
            "7\n",
            "\n",
            "\n",
            "Actual Output:\n",
            "-1\n",
            "\n",
            "Execution Time:\n",
            "0.214 ms\n",
            "\n",
            "Test Result:\n",
            "\u001b[91mFAILED\u001b[0m\n",
            "\n",
            "\n",
            "\u001b[1mTEST CASE #8\u001b[0m\n",
            "low: 0 ,high: 8 ,mid: 4 ,mid_num: 6\n",
            "\n",
            "Input:\n",
            "{'cards': [8, 8, 6, 6, 6, 6, 6, 3, 2], 'query': 2}\n",
            "\n",
            "Expected Output:\n",
            "8\n",
            "\n",
            "\n",
            "Actual Output:\n",
            "-1\n",
            "\n",
            "Execution Time:\n",
            "0.243 ms\n",
            "\n",
            "Test Result:\n",
            "\u001b[91mFAILED\u001b[0m\n",
            "\n",
            "\n",
            "\u001b[1mSUMMARY\u001b[0m\n",
            "\n",
            "TOTAL: 9, \u001b[92mPASSED\u001b[0m: 2, \u001b[91mFAILED\u001b[0m: 7\n"
          ]
        },
        {
          "output_type": "execute_result",
          "data": {
            "text/plain": [
              "[(-1, False, 1.028),\n",
              " (-1, False, 0.235),\n",
              " (-1, False, 0.26),\n",
              " (-1, False, 0.214),\n",
              " (0, True, 0.519),\n",
              " (-1, True, 0.209),\n",
              " (None, False, 0.003),\n",
              " (-1, False, 0.214),\n",
              " (-1, False, 0.243)]"
            ]
          },
          "metadata": {},
          "execution_count": 196
        }
      ]
    }
  ],
  "metadata": {
    "colab": {
      "name": "Microsoft.ipynb",
      "provenance": [],
      "toc_visible": true,
      "authorship_tag": "ABX9TyMLVcXwe2n1pdJNlhi1QoVa",
      "include_colab_link": true
    },
    "kernelspec": {
      "display_name": "Python 3",
      "name": "python3"
    },
    "language_info": {
      "name": "python"
    }
  },
  "nbformat": 4,
  "nbformat_minor": 0
}