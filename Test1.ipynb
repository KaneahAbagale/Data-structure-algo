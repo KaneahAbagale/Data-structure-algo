{
  "cells": [
    {
      "cell_type": "markdown",
      "metadata": {
        "id": "view-in-github",
        "colab_type": "text"
      },
      "source": [
        "<a href=\"https://colab.research.google.com/github/KaneahAbagale/Data-structure-algo/blob/main/Test1.ipynb\" target=\"_parent\"><img src=\"https://colab.research.google.com/assets/colab-badge.svg\" alt=\"Open In Colab\"/></a>"
      ]
    },
    {
      "cell_type": "markdown",
      "metadata": {
        "id": "PgUbs8Pt93h7"
      },
      "source": [
        ""
      ]
    },
    {
      "cell_type": "code",
      "execution_count": null,
      "metadata": {
        "id": "s8LCr_5V9aCi"
      },
      "outputs": [],
      "source": [
        "#import a library module\n",
        "#import math"
      ]
    },
    {
      "cell_type": "code",
      "execution_count": null,
      "metadata": {
        "colab": {
          "base_uri": "https://localhost:8080/"
        },
        "id": "9E7QDapH-GJb",
        "outputId": "5ee6aa6c-2c7f-401f-f424-ab165dcc11a0"
      },
      "outputs": [
        {
          "data": {
            "text/plain": [
              "49"
            ]
          },
          "execution_count": 7,
          "metadata": {},
          "output_type": "execute_result"
        }
      ],
      "source": [
        "#use a function from thlibrary\n",
        "#math.floor(49)"
      ]
    },
    {
      "cell_type": "code",
      "execution_count": null,
      "metadata": {
        "id": "Jpshi6UEwvIN"
      },
      "outputs": [],
      "source": [
        "!pip install jovian --upgrade --quiet"
      ]
    },
    {
      "cell_type": "code",
      "execution_count": null,
      "metadata": {
        "id": "XWigtFa9xLNo"
      },
      "outputs": [],
      "source": [
        "from jovian.pythondsa import evaluate_test_case"
      ]
    },
    {
      "cell_type": "code",
      "execution_count": null,
      "metadata": {
        "id": "yiX0XxV0y-mf"
      },
      "outputs": [],
      "source": [
        "from jovian.pythondsa import evaluate_test_cases"
      ]
    },
    {
      "cell_type": "code",
      "execution_count": null,
      "metadata": {
        "id": "-psEE97a_cOn"
      },
      "outputs": [],
      "source": [
        "def locate_card(cards,query):\n",
        "  pass"
      ]
    },
    {
      "cell_type": "code",
      "execution_count": null,
      "metadata": {
        "id": "U-svO6fklgfc"
      },
      "outputs": [],
      "source": [
        "cards = [12,10,9,7,6,5,3,0]\n",
        "query = 6\n",
        "output = 4"
      ]
    },
    {
      "cell_type": "code",
      "execution_count": null,
      "metadata": {
        "colab": {
          "base_uri": "https://localhost:8080/"
        },
        "id": "ROgCtkIsm2k6",
        "outputId": "a3fe8ad4-c5de-4bc6-e4b7-3aedce4dfc90"
      },
      "outputs": [
        {
          "name": "stdout",
          "output_type": "stream",
          "text": [
            "None\n"
          ]
        }
      ],
      "source": [
        "result = locate_card(cards,query)\n",
        "print(result)"
      ]
    },
    {
      "cell_type": "code",
      "execution_count": null,
      "metadata": {
        "colab": {
          "base_uri": "https://localhost:8080/"
        },
        "id": "Cujh3qtTnrR6",
        "outputId": "b22481c5-2b19-410d-cfaf-f5f962d8c2ab"
      },
      "outputs": [
        {
          "data": {
            "text/plain": [
              "False"
            ]
          },
          "execution_count": 56,
          "metadata": {},
          "output_type": "execute_result"
        }
      ],
      "source": [
        "result == output"
      ]
    },
    {
      "cell_type": "code",
      "execution_count": null,
      "metadata": {
        "id": "mzHwaTBJqXq_"
      },
      "outputs": [],
      "source": [
        "test = {\n",
        "    'input' : {\n",
        "        'cards' : [12,10,9,7,6,5,3,0],\n",
        "        'query' : 6\n",
        "    },\n",
        "    'output' : 4\n",
        "}"
      ]
    },
    {
      "cell_type": "code",
      "execution_count": null,
      "metadata": {
        "colab": {
          "base_uri": "https://localhost:8080/"
        },
        "id": "6NAmvl4xrgZq",
        "outputId": "ae38e1c8-cb40-4ddc-a448-770cd2a4e2a4"
      },
      "outputs": [
        {
          "data": {
            "text/plain": [
              "False"
            ]
          },
          "execution_count": 58,
          "metadata": {},
          "output_type": "execute_result"
        }
      ],
      "source": [
        "locate_card(**test['input']) == test['output']"
      ]
    },
    {
      "cell_type": "code",
      "execution_count": null,
      "metadata": {
        "id": "lhHKBHXo7jUH"
      },
      "outputs": [],
      "source": [
        "tests = []"
      ]
    },
    {
      "cell_type": "code",
      "execution_count": null,
      "metadata": {
        "id": "P1W08k-y952F"
      },
      "outputs": [],
      "source": [
        "#query happens in the middle\n",
        "tests.append(test)\n",
        "\n",
        "tests.append ({\n",
        "    'input' : {\n",
        "        'cards' : [12,10,9,7,6,5,3,0],\n",
        "        'query' : 3\n",
        "    },\n",
        "    'output' : 6\n",
        "})"
      ]
    },
    {
      "cell_type": "code",
      "execution_count": null,
      "metadata": {
        "id": "oWOVPGt299LU"
      },
      "outputs": [],
      "source": [
        "#query is first element\n",
        "tests.append ({\n",
        "    'input' : {\n",
        "        'cards' : [4,2,1,-1],\n",
        "        'query' : 4\n",
        "    },\n",
        "    'output' : 0\n",
        "})"
      ]
    },
    {
      "cell_type": "code",
      "execution_count": null,
      "metadata": {
        "id": "MxWe_VP3-UBW"
      },
      "outputs": [],
      "source": [
        "#query is last element\n",
        "tests.append ({\n",
        "    'input' : {\n",
        "        'cards' : [3,-1,-9,-127],\n",
        "        'query' : -127\n",
        "    },\n",
        "    'output' : 3\n",
        "})"
      ]
    },
    {
      "cell_type": "code",
      "execution_count": null,
      "metadata": {
        "id": "6nrBggfM-duO"
      },
      "outputs": [],
      "source": [
        "#list contains just 1 element\n",
        "tests.append ({\n",
        "    'input' : {\n",
        "        'cards' : [6],\n",
        "        'query' : 6\n",
        "    },\n",
        "    'output' : 0\n",
        "})"
      ]
    },
    {
      "cell_type": "code",
      "execution_count": null,
      "metadata": {
        "id": "ci4GgD_w-uAt"
      },
      "outputs": [],
      "source": [
        "#cards does not contain query\n",
        "#assume your function will return -1 if cards does not contain query\n",
        "tests.append ({\n",
        "    'input' : {\n",
        "        'cards' : [9,7,5,2,-9],\n",
        "        'query' : 4\n",
        "    },\n",
        "    'output' : -1\n",
        "})"
      ]
    },
    {
      "cell_type": "code",
      "execution_count": null,
      "metadata": {
        "id": "7BNShov4CFIW"
      },
      "outputs": [],
      "source": [
        "#if card array is empty\n",
        "tests.append ({\n",
        "    'input' : {\n",
        "        'cards' : [],\n",
        "        'query' : 8\n",
        "    },\n",
        "    'output' : -1\n",
        "})"
      ]
    },
    {
      "cell_type": "code",
      "execution_count": null,
      "metadata": {
        "id": "v9_sN_phCmRq"
      },
      "outputs": [],
      "source": [
        "#numbers can repeat\n",
        "tests.append ({\n",
        "    'input' : {\n",
        "        'cards' : [8,8,6,6,6,6,6,3,2,2,0,0,0],\n",
        "        'query' : 3\n",
        "    },\n",
        "    'output': 7\n",
        "})"
      ]
    },
    {
      "cell_type": "code",
      "execution_count": null,
      "metadata": {
        "id": "T8JSr6HVDnJI"
      },
      "outputs": [],
      "source": [
        "#the number query occurs more than 1 position\n",
        "tests.append ({\n",
        "    'input' : {\n",
        "        'cards' : [8,8,6,6,6,6,6,3,2,2,0,0,0],\n",
        "        'query' : 6\n",
        "    },\n",
        "    'output' : 2\n",
        "})"
      ]
    },
    {
      "cell_type": "code",
      "execution_count": null,
      "metadata": {
        "colab": {
          "base_uri": "https://localhost:8080/"
        },
        "id": "fX0XBsJuE5f-",
        "outputId": "51fb44c9-93f2-4f5a-ce95-5a0fe0055c99"
      },
      "outputs": [
        {
          "data": {
            "text/plain": [
              "[{'input': {'cards': [12, 10, 9, 7, 6, 5, 3, 0], 'query': 6}, 'output': 4},\n",
              " {'input': {'cards': [12, 10, 9, 7, 6, 5, 3, 0], 'query': 3}, 'output': 6},\n",
              " {'input': {'cards': [4, 2, 1, -1], 'query': 4}, 'output': 0},\n",
              " {'input': {'cards': [3, -1, -9, -127], 'query': -127}, 'output': 3},\n",
              " {'input': {'cards': [6], 'query': 6}, 'output': 0},\n",
              " {'input': {'cards': [9, 7, 5, 2, -9], 'query': 4}, 'output': -1},\n",
              " {'input': {'cards': [], 'query': 8}, 'output': -1},\n",
              " {'input': {'cards': [8, 8, 6, 6, 6, 6, 6, 3, 2, 2, 0, 0, 0], 'query': 3},\n",
              "  'output': 7},\n",
              " {'input': {'cards': [8, 8, 6, 6, 6, 6, 6, 3, 2, 2, 0, 0, 0], 'query': 6},\n",
              "  'output': 2}]"
            ]
          },
          "execution_count": 68,
          "metadata": {},
          "output_type": "execute_result"
        }
      ],
      "source": [
        "tests"
      ]
    },
    {
      "cell_type": "code",
      "execution_count": null,
      "metadata": {
        "id": "KN5U3iA6lyQY"
      },
      "outputs": [],
      "source": [
        "#Solution\n",
        "def locate_card(cards, query):\n",
        "\n",
        "  #create a variable with position 0\n",
        "  position = 0\n",
        "\n",
        "  #Set up a loop for repetition\n",
        "  while True:\n",
        "\n",
        "    #check if current element at the current position match query\n",
        "    if cards[position] == query:\n",
        "\n",
        "      #Answer found, return & exist\n",
        "      return position\n",
        "\n",
        "      #Increament position\n",
        "      position += 1\n",
        "\n",
        "      #check if we reach end of array\n",
        "      if position == len(cards):\n",
        "\n",
        "        #number not found return -1\n",
        "        return -1\n"
      ]
    },
    {
      "cell_type": "code",
      "execution_count": null,
      "metadata": {
        "colab": {
          "base_uri": "https://localhost:8080/"
        },
        "id": "1yt7Sa1TqUfw",
        "outputId": "bad53235-50de-4f2c-8bd6-9d1043c044a6"
      },
      "outputs": [
        {
          "data": {
            "text/plain": [
              "{'input': {'cards': [12, 10, 9, 7, 6, 5, 3, 0], 'query': 6}, 'output': 4}"
            ]
          },
          "execution_count": 112,
          "metadata": {},
          "output_type": "execute_result"
        }
      ],
      "source": [
        "test"
      ]
    },
    {
      "cell_type": "code",
      "execution_count": null,
      "metadata": {
        "id": "2nSfPEQ64DJ6"
      },
      "outputs": [],
      "source": [
        "result = locate_card (test['input']['cards'], test['input']['query']) \n",
        "result"
      ]
    },
    {
      "cell_type": "code",
      "execution_count": null,
      "metadata": {
        "colab": {
          "base_uri": "https://localhost:8080/"
        },
        "id": "wU5XzKxfvmP2",
        "outputId": "d1f07106-fba9-4972-ef3b-8b83955da236"
      },
      "outputs": [
        {
          "data": {
            "text/plain": [
              "False"
            ]
          },
          "execution_count": 115,
          "metadata": {},
          "output_type": "execute_result"
        }
      ],
      "source": [
        "result == output"
      ]
    },
    {
      "cell_type": "code",
      "execution_count": null,
      "metadata": {
        "id": "YPt01_4j9RS8"
      },
      "outputs": [],
      "source": [
        "for test in tests:\n",
        "  print(locate_card(**test['input']) == test['output'])"
      ]
    },
    {
      "cell_type": "code",
      "execution_count": null,
      "metadata": {
        "id": "0l1JxFqVxyVJ"
      },
      "outputs": [],
      "source": [
        "evaluate_test_case(locate_card, test)"
      ]
    },
    {
      "cell_type": "code",
      "execution_count": null,
      "metadata": {
        "id": "wbPzcCa9y14A"
      },
      "outputs": [],
      "source": [
        "evaluate_test_cases(locate_card, tests)"
      ]
    }
  ],
  "metadata": {
    "colab": {
      "name": "Microsoft.ipynb",
      "provenance": [],
      "authorship_tag": "ABX9TyNAG7G+At6FaFlmIW8JRjDq",
      "include_colab_link": true
    },
    "kernelspec": {
      "display_name": "Python 3",
      "name": "python3"
    },
    "language_info": {
      "name": "python"
    }
  },
  "nbformat": 4,
  "nbformat_minor": 0
}